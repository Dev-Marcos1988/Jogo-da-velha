{
  "nbformat": 4,
  "nbformat_minor": 0,
  "metadata": {
    "colab": {
      "provenance": [],
      "authorship_tag": "ABX9TyPO809pxLRgIjOOPda+inR0",
      "include_colab_link": true
    },
    "kernelspec": {
      "name": "python3",
      "display_name": "Python 3"
    },
    "language_info": {
      "name": "python"
    }
  },
  "cells": [
    {
      "cell_type": "markdown",
      "metadata": {
        "id": "view-in-github",
        "colab_type": "text"
      },
      "source": [
        "<a href=\"https://colab.research.google.com/github/Dev-Marcos1988/Jogo-da-velha/blob/main/Jogo_da_velha.ipynb\" target=\"_parent\"><img src=\"https://colab.research.google.com/assets/colab-badge.svg\" alt=\"Open In Colab\"/></a>"
      ]
    },
    {
      "cell_type": "code",
      "source": [
        "def print_board(board):\n",
        "    for row in board:\n",
        "        print(\" | \".join(row))\n",
        "        print(\"-\" * 9)\n",
        "\n",
        "def check_winner(board):\n",
        "    for row in board:\n",
        "        if row.count(row[0]) == 3 and row[0] != \" \":\n",
        "            return True\n",
        "    for col in range(3):\n",
        "        if board[0][col] == board[1][col] == board[2][col] != \" \":\n",
        "            return True\n",
        "    if board[0][0] == board[1][1] == board[2][2] != \" \" or board[0][2] == board[1][1] == board[2][0] != \" \":\n",
        "        return True\n",
        "    return False\n",
        "\n",
        "def tic_tac_toe():\n",
        "    board = [[\" \" for _ in range(3)] for _ in range(3)]\n",
        "    player = \"X\"\n",
        "    for _ in range(9):\n",
        "        print_board(board)\n",
        "        row, col = map(int, input(f\"Jogador {player}, insira a linha e a coluna (0, 1, 2): \").split())\n",
        "        if board[row][col] == \" \":\n",
        "            board[row][col] = player\n",
        "            if check_winner(board):\n",
        "                print_board(board)\n",
        "                print(f\"Jogador {player} venceu!\")\n",
        "                return\n",
        "            player = \"O\" if player == \"X\" else \"X\"\n",
        "    print_board(board)\n",
        "    print(\"Empate!\")"
      ],
      "metadata": {
        "id": "iTeiX-J0d6OE"
      },
      "execution_count": 6,
      "outputs": []
    }
  ]
}